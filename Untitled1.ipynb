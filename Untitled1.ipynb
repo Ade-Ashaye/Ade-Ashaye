{
  "metadata": {
    "language_info": {
      "codemirror_mode": {
        "name": "python",
        "version": 3
      },
      "file_extension": ".py",
      "mimetype": "text/x-python",
      "name": "python",
      "nbconvert_exporter": "python",
      "pygments_lexer": "ipython3",
      "version": "3.8"
    },
    "kernelspec": {
      "name": "python",
      "display_name": "Pyolite",
      "language": "python"
    }
  },
  "nbformat_minor": 4,
  "nbformat": 4,
  "cells": [
    {
      "cell_type": "markdown",
      "source": "# My Jupyter Notebook on IBM Watson Studio",
      "metadata": {}
    },
    {
      "cell_type": "markdown",
      "source": "ADEGBOLA OLUGBEMI ASHAYE\nData Analyst",
      "metadata": {}
    },
    {
      "cell_type": "markdown",
      "source": "*I am interested in Data Science because of my curiosity about how data informs our daily decisions and business decisions*",
      "metadata": {}
    },
    {
      "cell_type": "markdown",
      "source": "### The code in cell 5 will print welcome to data science",
      "metadata": {}
    },
    {
      "cell_type": "code",
      "source": "print(\"welcome to data science\")",
      "metadata": {
        "trusted": true
      },
      "execution_count": 1,
      "outputs": [
        {
          "name": "stdout",
          "text": "welcome to data science\n",
          "output_type": "stream"
        }
      ]
    },
    {
      "cell_type": "markdown",
      "source": "> This is a good way to start learning data science.\n~~loser~~\n1. Winner",
      "metadata": {}
    }
  ]
}